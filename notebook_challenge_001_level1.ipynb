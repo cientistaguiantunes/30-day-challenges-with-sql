{
  "cells": [
    {
      "cell_type": "markdown",
      "metadata": {
        "id": "view-in-github",
        "colab_type": "text"
      },
      "source": [
        "<a href=\"https://colab.research.google.com/github/cientistaguiantunes/30-day-challenges-with-sql/blob/main/notebook_challenge_001_level1.ipynb\" target=\"_parent\"><img src=\"https://colab.research.google.com/assets/colab-badge.svg\" alt=\"Open In Colab\"/></a>"
      ]
    },
    {
      "cell_type": "markdown",
      "id": "bc8a16a6",
      "metadata": {
        "id": "bc8a16a6"
      },
      "source": [
        "\n",
        "# Por favor tente resolver o desafio sozinho, não pegue atalhos, tu consegue, é só colocar a cabeça para funcionar."
      ]
    },
    {
      "cell_type": "markdown",
      "id": "4ffaa676",
      "metadata": {
        "id": "4ffaa676"
      },
      "source": [
        "Execute a célula abaixo apenas uma vez."
      ]
    },
    {
      "cell_type": "code",
      "execution_count": 1,
      "id": "b2be889b",
      "metadata": {
        "id": "b2be889b",
        "colab": {
          "base_uri": "https://localhost:8080/"
        },
        "outputId": "5b950857-da9f-46b2-9ef5-80f03e7a8cb2"
      },
      "outputs": [
        {
          "output_type": "stream",
          "name": "stderr",
          "text": [
            "Cloning into '30-day-challenges-with-sql'...\n"
          ]
        }
      ],
      "source": [
        "%%bash\n",
        "\n",
        "rm -rf /tmp/github; mkdir -p /tmp/github; cd /tmp/github\n",
        "git clone https://github.com/romeritomorais/30-day-challenges-with-sql.git\n",
        "sh /tmp/github/30-day-challenges-with-sql/challenges/utils/install-miniconda.sh > /dev/null 2>&1\n",
        "sh /tmp/github/30-day-challenges-with-sql/challenges/utils/update-miniconda.sh > /dev/null 2>&1"
      ]
    },
    {
      "cell_type": "markdown",
      "id": "7b62dd5e",
      "metadata": {
        "id": "7b62dd5e"
      },
      "source": [
        "Neste primeiro desafio super fácil, precisamos apenas dos registros do campo `Email` da tabela Customers onde o domínio seja da `apple`.\n",
        "Crie uma query que retorne esse resultado e escreva uma breve explicação do código implementado:\n",
        "\n",
        "\n",
        "Resultado esperado:  \n",
        "\n",
        "Email |\n",
        "-|\n",
        "astrid.gruber@apple.at| \n",
        "daan_peeters@apple.be| \n",
        "tgoyer@apple.com| \n",
        "isabelle_mercier@apple.fr| \n",
        "terhi.hamalainen@apple.fi| \n",
        "ladislav_kovacs@apple.hu| \n",
        "hughoreilly@apple.ie| \n",
        "\n",
        "Na célula onde se encontra o `%%sql`, escreva sua query, sem deletar o comando. Exemplo:  \n",
        "```python\n",
        "%%sql\n",
        "select * from Customer\n",
        "```\n",
        "\n",
        "Para resolução utilize a documentação do sqlite:https://www.sqlite.org/docs.html"
      ]
    },
    {
      "cell_type": "code",
      "execution_count": 2,
      "id": "78b7cbdc",
      "metadata": {
        "id": "78b7cbdc",
        "colab": {
          "base_uri": "https://localhost:8080/",
          "height": 36
        },
        "outputId": "96035688-7d29-493f-fbed-dfa4555a77b0"
      },
      "outputs": [
        {
          "output_type": "execute_result",
          "data": {
            "text/plain": [
              "'Connected: @//tmp/github/30-day-challenges-with-sql/challenges/utils/db/database.db'"
            ],
            "application/vnd.google.colaboratory.intrinsic+json": {
              "type": "string"
            }
          },
          "metadata": {},
          "execution_count": 2
        }
      ],
      "source": [
        "%load_ext sql\n",
        "%sql sqlite://///tmp/github/30-day-challenges-with-sql/challenges/utils/db/database.db"
      ]
    },
    {
      "cell_type": "markdown",
      "id": "be967233",
      "metadata": {
        "id": "be967233"
      },
      "source": [
        "explicação da implementação do código\n",
        "...."
      ]
    },
    {
      "cell_type": "code",
      "execution_count": 4,
      "id": "4aba4071",
      "metadata": {
        "id": "4aba4071",
        "colab": {
          "base_uri": "https://localhost:8080/",
          "height": 227
        },
        "outputId": "5682e7ad-f3c7-406c-9c09-5fb4327a6230"
      },
      "outputs": [
        {
          "output_type": "stream",
          "name": "stdout",
          "text": [
            " * sqlite://///tmp/github/30-day-challenges-with-sql/challenges/utils/db/database.db\n",
            "Done.\n"
          ]
        },
        {
          "output_type": "execute_result",
          "data": {
            "text/plain": [
              "[('astrid.gruber@apple.at',),\n",
              " ('daan_peeters@apple.be',),\n",
              " ('tgoyer@apple.com',),\n",
              " ('isabelle_mercier@apple.fr',),\n",
              " ('terhi.hamalainen@apple.fi',),\n",
              " ('ladislav_kovacs@apple.hu',),\n",
              " ('hughoreilly@apple.ie',)]"
            ],
            "text/html": [
              "<table>\n",
              "    <thead>\n",
              "        <tr>\n",
              "            <th>Email</th>\n",
              "        </tr>\n",
              "    </thead>\n",
              "    <tbody>\n",
              "        <tr>\n",
              "            <td>astrid.gruber@apple.at</td>\n",
              "        </tr>\n",
              "        <tr>\n",
              "            <td>daan_peeters@apple.be</td>\n",
              "        </tr>\n",
              "        <tr>\n",
              "            <td>tgoyer@apple.com</td>\n",
              "        </tr>\n",
              "        <tr>\n",
              "            <td>isabelle_mercier@apple.fr</td>\n",
              "        </tr>\n",
              "        <tr>\n",
              "            <td>terhi.hamalainen@apple.fi</td>\n",
              "        </tr>\n",
              "        <tr>\n",
              "            <td>ladislav_kovacs@apple.hu</td>\n",
              "        </tr>\n",
              "        <tr>\n",
              "            <td>hughoreilly@apple.ie</td>\n",
              "        </tr>\n",
              "    </tbody>\n",
              "</table>"
            ]
          },
          "metadata": {},
          "execution_count": 4
        }
      ],
      "source": [
        "%%sql\n",
        "select Email from Customer\n",
        "where upper(Email) like '%APPLE%'"
      ]
    }
  ],
  "metadata": {
    "kernelspec": {
      "display_name": "Python 3 (ipykernel)",
      "language": "python",
      "name": "python3"
    },
    "language_info": {
      "codemirror_mode": {
        "name": "ipython",
        "version": 3
      },
      "file_extension": ".py",
      "mimetype": "text/x-python",
      "name": "python",
      "nbconvert_exporter": "python",
      "pygments_lexer": "ipython3",
      "version": "3.7.9"
    },
    "colab": {
      "name": "notebook_challenge_001_level1.ipynb",
      "provenance": [],
      "collapsed_sections": [],
      "include_colab_link": true
    }
  },
  "nbformat": 4,
  "nbformat_minor": 5
}